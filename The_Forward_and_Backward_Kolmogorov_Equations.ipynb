{
 "metadata": {
  "name": "",
  "signature": "sha256:4a5a7778fdb656e6f0517127cad1a323dae8431c9427b2f2bb84f5ef95e34100"
 },
 "nbformat": 3,
 "nbformat_minor": 0,
 "worksheets": [
  {
   "cells": [
    {
     "cell_type": "heading",
     "level": 1,
     "metadata": {},
     "source": [
      "The Forward-Kolmogorov/Fokker-Plank and the Backward Kolmogorov Equations"
     ]
    },
    {
     "cell_type": "code",
     "collapsed": false,
     "input": [
      "%matplotlib inline"
     ],
     "language": "python",
     "metadata": {},
     "outputs": [],
     "prompt_number": 1
    },
    {
     "cell_type": "markdown",
     "metadata": {},
     "source": [
      "We consider the evolution of **Markov Processes**, or those whose statistics/transition probabilities depend only on the current state of the system.  We also note that this designation depends, at least somewhat, on the level of description of the system.  Many times, a process that is not Markovian can be recast as one that is when more parameters of the system are included.\n",
      "\n",
      "The process will posses a propagator $T(\\vec{y}, t + \\Delta t| \\vec{x}, t)$ which gives the probability of transitioning from the state $x, t \\to y, t+\\Delta t$.  Here we consider **continuous markov processes** which satisfy\n",
      "$$\\int T(\\vec{x}, t + \\Delta t | \\vec{y}, t) (\\vec{x} - \\vec{y})^k d\\vec{x} = o(\\Delta t) \\quad \\text{for any}\\:k>2$$\n",
      "Unpacking this, we require that all moments higher than the 2nd must be of less than linear order in $\\Delta t$.  (This is violated for jump processes like Levy-flights!) We expand the moments of lower order and name their coefficients:\n",
      "$$\\int T(\\vec{x}, t + \\Delta t | \\vec{y}, t) d\\vec{x} = 1 \\\\\n",
      "\\int T(\\vec{x}, t + \\Delta t | \\vec{y}, t) (x - y)_\\alpha d\\vec{x} = v_\\alpha(\\vec{y})\\Delta t \\\\\n",
      "\\int T(\\vec{x}, t + \\Delta t | \\vec{y}, t) (x - y)_\\alpha (x - y)_\\beta d\\vec{x} = 2D_{\\alpha\\beta}(\\vec{y})\\Delta t$$\n",
      "(subscripts denote components.) The first says that we must go somewhere.  The second, that our drift takes the form of a velocity, and the third, that our process diffuses as time advances. These could also potentially depend on $t$ but for now we suppress the dependence, requiring that our processes be stationary.  We can also see, from the symmetry of the integral, that the diffusion tensor is symmetric."
     ]
    },
    {
     "cell_type": "heading",
     "level": 3,
     "metadata": {},
     "source": [
      "Forward Kolmogorov/Fokker-Planck Equation"
     ]
    },
    {
     "cell_type": "markdown",
     "metadata": {},
     "source": [
      "Here, we consider the probabilty $P(\\vec{x}, t| \\vec{x_0}, t_0)$ of being found at the state $\\vec{x}, t$ conditional on having been at $\\vec{x_0} t_0$.  We consider an incremental evolution of the system,\n",
      "$$P(\\vec{x}, t+\\Delta t| \\vec{x_0}, t_0) = \\int d\\vec{y} \\:  T(\\vec{x}, t+\\Delta t| \\vec{y}, t) P(\\vec{y}, t| \\vec{x_0}, t_0)$$\n",
      "We would like to consider the expansion of $P$, but we are not sure of it's continuity.  We thus introduce a dummy function $\\phi(\\vec{x}) \\in C^\\infty$ which can aid us in the expansion.\n",
      "$$\\int d\\vec{x}\\, \\phi(\\vec{x})\\:P(\\vec{x}, t+\\Delta t| \\vec{x_0}, t_0) = \\int d\\vec{y} d\\vec{x} \\:   \\phi(\\vec{x})\\:T(\\vec{x}, t+\\Delta t| \\vec{y}, t) \\:P(\\vec{y}, t| \\vec{x_0}, t_0).$$\n",
      "Expanding $\\phi(\\vec{x})$ to second order about $\\vec{y}$, (and using $\\partial_\\alpha = \\frac{\\partial}{\\partial x_\\alpha}$)\n",
      "$$\\int d\\vec{x}\\, \\phi(\\vec{x})\\,P(\\vec{x}, t+\\Delta t| \\vec{x_0}, t_0) =  \\\\\n",
      "\\int d\\vec{y} d\\vec{x} \\:   (\\phi(\\vec{y}) + \\partial_\\alpha \\phi(\\vec{x})|_\\vec{y} (y - x)_\\alpha +\\frac{1}{2} \\partial_\\alpha \\partial _\\beta \\phi(\\vec{x})|_\\vec{y} (y - x)_\\alpha (y - x)_\\beta + ...)\\,T(\\vec{x}, t+\\Delta t| \\vec{y}, t) P(\\vec{y}, t| \\vec{x_0}, t_0).$$\n",
      "In the second term, we now integrate over $\\vec{x}$ utilizing the moments of the propagator we named in the previous section,\n",
      "$$\\int d\\vec{x}\\, \\phi(\\vec{x})\\,P(\\vec{x}, t+\\Delta t| \\vec{x_0}, t_0) =  \\\\\n",
      "\\int d\\vec{y} \\left[\\phi(\\vec{y}) + \\partial_\\alpha \\phi(\\vec{x})|_\\vec{y} v_\\alpha(\\vec{y})\\Delta t + \\partial_\\alpha \\partial_\\beta \\phi(\\vec{x})|_\\vec{y}D_{\\alpha\\beta}(\\vec{y})\\Delta t\\right]P(\\vec{y}, t| \\vec{x_0}, t_0)$$\n",
      "This further allows us to remove the 'evaluated at $\\vec{y}$' markers and just regard the derivatives as being with respect to $y_\\alpha$. As $\\vec{y}$ is an integration variable, we change it to $\\vec{x}$ and integrate by parts, moving the derivatives from $\\phi$ to $P$ and the moments of our process.  By normalization, $P$ must vanish at infinity and the surface terms must vanish.  The RHS becomes,\n",
      "$$\\int d\\vec{x} \\left[\\phi(\\vec{x}) - \\phi(\\vec{x}) \\partial_\\alpha \\left(v_\\alpha(\\vec{x})P(\\vec{x}, t| \\vec{x_0}, t_0)\\right)\\Delta t +  \\phi(\\vec{x})\\partial_\\alpha \\partial_\\beta \\left( D_{\\alpha\\beta}(\\vec{x})P(\\vec{x}, t| \\vec{x_0}, t_0)\\right)\\Delta t\\right]$$\n",
      "In order for the two sides to be equal for any $\\phi$ the products of $\\phi$ in the integrands must be equal, and we can now dispense with our dummy function.  We then subtract over the first term, divide by $\\Delta t$ and take the limit as it goes to zero\n",
      "$$\\partial_t P(\\vec{x}, t| \\vec{x_0}, t_0) =  - \\partial_\\alpha \\left(v_\\alpha (\\vec{x}) P(\\vec{x}, t| \\vec{x_0}, t_0)\\right) + \\partial_\\alpha \\partial_\\beta \\left(D_{\\alpha\\beta}(\\vec{x})P(\\vec{x}, t| \\vec{x_0}, t_0)\\right)$$\n",
      "This is the forward Kolmogorov equation.  It describes the evolution of a probability distribution subject to drift, given by the first term on the right, and diffusion given by the second."
     ]
    },
    {
     "cell_type": "heading",
     "level": 5,
     "metadata": {},
     "source": [
      "Conservation"
     ]
    },
    {
     "cell_type": "markdown",
     "metadata": {},
     "source": [
      "We note that it can be written as a conservation equation,\n",
      "$$\\partial_t P =  -\\partial_\\alpha J_\\alpha$$\n",
      "for a probability flux,\n",
      "$$J_\\alpha = v_\\alpha(\\vec{x})P(\\vec{x}, t| \\vec{x_0}, t_0) - \\partial_\\beta D_{\\alpha\\beta}(\\vec{x})P(\\vec{x}, t| \\vec{x_0}, t_0)$$\n",
      "which just says that the probability flux is due to a drift given by $v_\\alpha$ and a Fick's Law flux with a diffusion constant that may depend on direction and location.\n",
      "\n",
      "Integrating this equation over the volume of interest,\n",
      "$$\\partial_t \\int P dV = - \\int \\partial_\\alpha J_\\alpha dV = \\int_B \\hat{n}_\\alpha J_\\alpha dS$$\n",
      "the divergence may be replaced by a flux integral over the boundary.  With zero flux boundary conditions, this is 0 and we have that the total probability is conserved in time.\n",
      "$$\\partial_t \\int P dV = 0$$"
     ]
    },
    {
     "cell_type": "heading",
     "level": 5,
     "metadata": {},
     "source": [
      "Steady-State"
     ]
    },
    {
     "cell_type": "markdown",
     "metadata": {},
     "source": [
      "We can use the forward Kolmogorov equation to evaluate the steady state solution of our distribution.  Setting the left hand size to zero, we have,\n",
      "$$0 = \\partial_\\alpha J_\\alpha$$\n",
      "so the probability flux is divergenceless, or solenoidal.  Many fields will satisfy this but we focus on one in which there is zero probabilty current through any surface in the system.\n",
      "$$ \\vec{J} = 0$$\n",
      "The differential equation thus separates into three equations, one for each dimension.  In the single variable case, we have\n",
      "$$ 0 = v(x)P(x) - \\frac{d}{dx} D(x)P(x)$$\n",
      "so at every point, the distribution will have evolved such that the drift is countered by the Fick's law flow.  This equation is separable, and integration gives,\n",
      "$$P(x) = \\frac{A e^{\\int^{x} dx' \\frac{v(x')}{D(x')}}}{D(x)}$$"
     ]
    },
    {
     "cell_type": "code",
     "collapsed": false,
     "input": [],
     "language": "python",
     "metadata": {},
     "outputs": []
    }
   ],
   "metadata": {}
  }
 ]
}