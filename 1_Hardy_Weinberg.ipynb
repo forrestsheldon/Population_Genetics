{
 "metadata": {
  "name": "",
  "signature": "sha256:7ccea3fd1535c77ae2090dcdd0b7f6e881c8e22a96f76375b21c5d6f719aa54d"
 },
 "nbformat": 3,
 "nbformat_minor": 0,
 "worksheets": [
  {
   "cells": [
    {
     "cell_type": "heading",
     "level": 1,
     "metadata": {},
     "source": [
      "The Hardy Weinberg Law"
     ]
    },
    {
     "cell_type": "markdown",
     "metadata": {},
     "source": [
      "We are interested in populations of alleles and how those populations change over generations.  To begin with, we will look at the simplest case of an infinite population with random mating.  In this case we will find that the population converges very quickly to an equilibrium given by the fraction of each type of allele within the population.\n",
      "\n",
      "We are interested in diploid organisms, or those whose chromosomes occur in pairs.  We divide up the chromosome into locations, or **loci** where different genes are found.  A particular variant of a gene is an **allele** and if we know what alleles an organism possesses at a particular locus, we can infer that gene's expression and thus the organism's phenotype.\n",
      "\n",
      "Each allele is formed of nucleotides (~750) and these are where mutations can take place.  In addition to single nucleotide changes, we can have\n",
      "\n",
      "* deletions\n",
      "\n",
      "* insertions\n",
      "\n",
      "* major chromosomal rearrangements and,\n",
      "\n",
      "* duplications\n",
      "\n",
      "Alleles can differ by\n",
      "\n",
      "* origin - same locus, different chromosome\n",
      "\n",
      "* state - sequence, phenotype, etc.  How we define differences in state will depend on what aspect of genetics we are studying\n",
      "\n",
      "* descent - no common ancestor within the relevant past timespan"
     ]
    },
    {
     "cell_type": "heading",
     "level": 3,
     "metadata": {},
     "source": [
      "Hardy Weinberg Law"
     ]
    },
    {
     "cell_type": "markdown",
     "metadata": {},
     "source": [
      "Consider a locus in a population with two alleles, $A_1,\\:A_2$.  We can summarize the population diversity by giving the genotype frequencies,\n",
      "$$f(A_1 A_1) = x_{11}\\quad f(A_1 A_2/A_2 A_1) = x_{12}\\quad f(A_2, A_2) = x_{22}$$\n",
      "with the convention that the $x_{12}$ includes both heterozygous cases and such that $x_{11} + x_{12} + x_{22} = 1$.  We note that in the case of infinite population, the frequencies are equal to the probabilities.\n",
      "\n",
      "We assume that mating occurs randomly such that we select two individuals and one allele from each at random.  We also assume a hermaphroditic population so that any two individuals can mate (more discussion on this after) and that generations are non-overlapping. Carrying these assumptions out, the genotype frequencies in the next generation will be,\n",
      "$$ x_{11}' = x_{11}^2 + x_{11}x_{12} + \\frac{1}{4}x_{12}^2 \\\\\n",
      "x_{12}' = \\frac{1}{2} x_{12}^2 + 2x_{11}x_{22} + x_{11}x_{12} +x_{12}x_{22} \\\\\n",
      "x_{22}' = x_{22}^2 + x_{12}x_{22} + \\frac{1}{4}x_{12}^2$$\n",
      "\n",
      "Under this assumption, mating between individuals becomes equivalent to selecting alleles randomly from the population.  In this case, we can work directly with allele frequencies instead of genotypes.  We can see this from the mating equations by first defining the allele frequencies,\n",
      "$$p = x_{11} + \\frac{1}{2} x_{12} \\\\\n",
      "q = 1-p = x_{22} + \\frac{1}{2} x_{12}.\n",
      "$$\n",
      "Utilizing these, the mating equations may be written entirely in terms of the allele frequencies,\n",
      "$$ x_{11}' = (x_{11} + \\frac{1}{2} x_{12})^2 = p^2 \\\\\n",
      "x_{12}' = 2(x_{11} + \\frac{1}{2} x_{12})(x_{22} + \\frac{1}{2} x_{12})= 2pq\\\\\n",
      "x_{22}' = (x_{22} + \\frac{1}{2} x_{12})^2 = q^2$$\n",
      "which give,\n",
      "$$p' = p^2 + p(1-p) = p\\\\\n",
      "q' = 1-p' = q.$$\n",
      "So, the allele frequencies are constant across generations.  Additionally, no matter what the initial genotype frequencies, the population will converge to the Hardy-Weinberg equilibrium given by the allele frequencies in one generation.  This can be generallized to the case of many alleles, with the allele probabilities,\n",
      "$$p_i = x_{ii} + \\frac{1}{2} \\sum_{i<j} x_{ij} + \\frac{1}{2} \\sum_{j<i} x_{ji}$$\n",
      "with the convention that $x_{ij}$ is always written such that $i < j$.\n",
      "\n",
      "We now examine some cases in which we have a gendered population. "
     ]
    },
    {
     "cell_type": "heading",
     "level": 5,
     "metadata": {},
     "source": [
      "Autosomal Locus"
     ]
    },
    {
     "cell_type": "markdown",
     "metadata": {},
     "source": [
      "We now consider the case of a gendered population.  In this case we have six genotype frequencies,\n",
      "$$x_{11}^{M/F},\\quad x_{12}^{M/F},\\quad x_{22}^{M/F}$$\n",
      "and thus two allele frequencies,\n",
      "$$ p^M = \\frac{(x_{11}^M)^2 +\\frac{1}{2} x_{12}^M}{\\sum x_{ij}^M} \\\\\n",
      "p^F = \\frac{(x_{11}^F)^2 +\\frac{1}{2} x_{12}^F}{{\\sum x_{ij}^F}} .$$\n",
      "\n",
      "We denote the initial allele frequences by $p^M_0, p^F_0$. In the next generation, the genotype frequencies will be symmetric functions of these two probabilities,\n",
      "$$x_{11, 1}^{M/F} = p^M_0 p^F_0 \\frac{1}{2}\\\\\n",
      "x_{12, 1}^{M/F} = (p^M_0 q^F_0 + q^M_0 p^F_0)\\frac{1}{2} \\\\\n",
      "x_{22, 1}^{M/F} = q^M_0 q^F_0 \\frac{1}{2}$$\n",
      "and thus, because gender is decided independently, after one generation, all differences between genders will be gone and thus the frequencies of males and females, $\\sum x_{ij}^M = \\sum x_{ij}^F = \\frac{1}{2}$. This leads to the updated allele probabilities,\n",
      "$$p^M_1 = p^F_1= \\frac{1}{2}(p^M_0 + p^F_0)$$\n",
      "The following generation will then converge to the Hardy-Weinberg equilibrium with allele frequencies given by the average of the initial frequencies across genders."
     ]
    },
    {
     "cell_type": "heading",
     "level": 5,
     "metadata": {},
     "source": [
      "Sexual Locus"
     ]
    },
    {
     "cell_type": "markdown",
     "metadata": {},
     "source": [
      "In this case, the locus is on the X chromosome, such that a male offspring always inherits from the mother and a female inherits from the mother and father with equal probability.  Initially, we have two allele frequencies, \n",
      "$$p_M^0, \\quad p_F^0$$\n",
      "In the next generation, all males inherit from there mother, and all females inherit with equal probability from their mother or father,\n",
      "$$p_M^1 = p_F^0 \\quad p_F^1 = \\frac{1}{2}(p_M^0+p_F^0).$$\n",
      "This process then repeats in each generation,\n",
      "$$p_M^2 = \\frac{1}{2}(p_M^0+P_F^0) \\quad p_F^2 = \\frac{1}{4}p_M^0+ \\frac{3}{4}p_F^0.$$\n",
      "\n",
      "We can cast this as a matrix equation,\n",
      "$$ \\left[ \\begin{array}{c}\n",
      "p_M^t \\\\\n",
      "p_F^t \\end{array} \\right]\n",
      " = \n",
      " \\left[ \\begin{array}{cc}\n",
      "0 & 1 \\\\\n",
      "\\frac{1}{2} & \\frac{1}{2} \\end{array} \\right]^t\n",
      "\\left[ \\begin{array}{c}\n",
      "p_M^0 \\\\\n",
      "p_F^0 \\end{array} \\right]\n",
      "$$\n",
      "which has solution,\n",
      "$$ \\left[ \\begin{array}{c}\n",
      "p_M^t \\\\\n",
      "p_F^t \\end{array} \\right]\n",
      " = \n",
      " \\left[ \\begin{array}{c}\n",
      "1 \\\\\n",
      "1 \\end{array} \\right] \\frac{1}{3}(p_M^0 + 2p_F^0)\n",
      "+ \\left(-\\frac{1}{2}\\right)^t\n",
      "\\left[ \\begin{array}{c}\n",
      "2 \\\\\n",
      "-1 \\end{array} \\right]\\frac{1}{3}(p_M^0 - p_F^0).\n",
      "$$\n",
      "We thus see that the solution converges exponentially to an equilibrium given by\n",
      "$$p_{M/F}^\\infty = \\frac{1}{3}p_M^0 + \\frac{2}{3}p_F^0.$$\n",
      " \n"
     ]
    },
    {
     "cell_type": "code",
     "collapsed": false,
     "input": [],
     "language": "python",
     "metadata": {},
     "outputs": []
    }
   ],
   "metadata": {}
  }
 ]
}