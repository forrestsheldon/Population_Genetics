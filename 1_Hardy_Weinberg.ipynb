{
 "metadata": {
  "name": "",
  "signature": "sha256:9c5bfbf7c723e01ca36231658f557e75e495728b847eaadc8e6eda03b76426ca"
 },
 "nbformat": 3,
 "nbformat_minor": 0,
 "worksheets": [
  {
   "cells": [
    {
     "cell_type": "heading",
     "level": 1,
     "metadata": {},
     "source": [
      "The Hardy Weinberg Law"
     ]
    },
    {
     "cell_type": "markdown",
     "metadata": {},
     "source": [
      "We are interested in populations of alleles and how those populations change over generations.  To begin with, we will look at the simplest case of an infinite population with random mating.  In this case we will find that the population converges very quickly to an equilibrium.\n",
      "\n",
      "We are interested in diploid organisms, or those whose chromosomes occur in pairs.  We divide up the chromosome into locations, or **loci** where different genes are found.  A particular variant of a genes is an **allele** and if we know what alleles an organism possesses at a particular locus, we can infer that gene's expression and thus the organism's phenotype.\n",
      "\n",
      "Each allele is formed of nucleotides (~750) and these are where mutations can take place.  In addition to single nucleotide changes, we can have\n",
      "\n",
      "* deletions\n",
      "\n",
      "* insertions\n",
      "\n",
      "* major chromosomal rearrangements and,\n",
      "\n",
      "* duplications\n",
      "\n",
      "Alleles can differ by\n",
      "\n",
      "* origin - same locus, different chromosome\n",
      "\n",
      "* state - sequence, phenotype, etc.  How we define differences in state will depend on what aspect of genetics we are studying\n",
      "\n",
      "* descent - no common ancestor within the relevant past timespan"
     ]
    },
    {
     "cell_type": "heading",
     "level": 3,
     "metadata": {},
     "source": [
      "Hardy Weinberg Law"
     ]
    },
    {
     "cell_type": "markdown",
     "metadata": {},
     "source": [
      "Consider a locus in a population with two alleles, $A_1,\\:A_2$.  We can summarize the population diversity by giving the genotype frequencies,\n",
      "$$f(A_1 A_1) = x_{11}\\quad f(A_1 A_2/A_2 A_1) = x_{12}\\quad f(A_2, A_2) = x_{22}$$\n",
      "with the convention that the $x_{12}$ includes both heterozygous cases and such that $x_{11} + x_{12} + x_{22} = 1$.\n",
      "\n",
      "We assume that mating occurs randomly such that we select two individuals and one allele from each.  The genotype frequencies in the next generation will thus be,\n",
      "$$ x_{11}' = x_{11}^2 + x_{11}x_{12} + \\frac{1}{4}x_{12}^2 \\\\\n",
      "x_{12}' = \\frac{1}{2} x_{12}^2 + 2x_{11}x_{22} + x_{11}x_{12} +x_{12}x_{22} \\\\\n",
      "x_{22}' = x_{22}^2 + x_{12}x_{22} + \\frac{1}{4}x_{12}^2$$\n",
      "\n",
      "Under this assumption, mating between individuals becomes equivalent to selecting alleles randomly from the population.  In this case, we can work with allele frequencies instead of genotypes.  \n",
      "\n"
     ]
    },
    {
     "cell_type": "code",
     "collapsed": false,
     "input": [],
     "language": "python",
     "metadata": {},
     "outputs": []
    }
   ],
   "metadata": {}
  }
 ]
}