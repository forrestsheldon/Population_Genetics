{
 "metadata": {
  "name": "",
  "signature": "sha256:e53272aab7077bedd367c0d4fec5b96f3a03d7d19c3413782d2684b4fab09301"
 },
 "nbformat": 3,
 "nbformat_minor": 0,
 "worksheets": [
  {
   "cells": [
    {
     "cell_type": "heading",
     "level": 1,
     "metadata": {},
     "source": [
      "Multiple Loci and Linkage Disequilibrium"
     ]
    },
    {
     "cell_type": "code",
     "collapsed": false,
     "input": [
      "%matplotlib inline"
     ],
     "language": "python",
     "metadata": {},
     "outputs": [],
     "prompt_number": 1
    },
    {
     "cell_type": "markdown",
     "metadata": {},
     "source": [
      "Until now we have only considered dynamics of a single locus on a chromosome.  We now consider a two locus model and get a new mechanism, recombination!"
     ]
    },
    {
     "cell_type": "heading",
     "level": 3,
     "metadata": {},
     "source": [
      "The Model"
     ]
    },
    {
     "cell_type": "markdown",
     "metadata": {},
     "source": [
      "When two chromosomes pair, they can break and combine across each other.  Physically, there is some probability density of breaking along the chromosome with it being largely uniform, apart from a few 'hotspots' where chromosomes are likely to break.  We expect that many recombinations should break correlations between alleles on the chromosome.  Similarly, a low recombination rate should leave loci highly correlated.\n",
      "\n",
      "We consider the frequencies of chromosomes with two loci,\n",
      "$$\n",
      "\\begin{array}{cc}\n",
      "\\text{Chromosome} & \\text{frequency} \\\\\n",
      "A_1 - B_1 & x_1 \\\\\n",
      "A_1 - B_2 & x_2 \\\\\n",
      "A_2 - B_1 & x_3 \\\\\n",
      "A_2 - B_2 & x_4 \\\\\n",
      "\\end{array}\n",
      "$$\n",
      "with $\\sum x_i = 1$. From these, we can define the single allele probabilities\n",
      "$$ p_1 = x_1 + x_2 \\quad q_1 = x_3 + x_4 \\\\\n",
      "p_2 = x_1 + x_3 \\quad q_2 = x_2 + x_4 $$\n",
      "We introduce the **recombination rate** $r$ for two loci separated on the chromosome as $A$ and $B$ are. This is the probability per generation that a recombination separates the two alleles."
     ]
    },
    {
     "cell_type": "heading",
     "level": 3,
     "metadata": {},
     "source": [
      "Mating"
     ]
    },
    {
     "cell_type": "markdown",
     "metadata": {},
     "source": [
      "At each generation, pick pairs of alleles from the previous one.  With probability $(1-r)$ pass these to the next generation.  With probability $r$, a recombination event swaps the alleles before they are passed.  We are interested in how this changes the chromosome frequencies.  Consider the frequency of the $A_1-B_1$ allele in the new generation.  With probability $(1-r)$ the chromosome proceeds unbroken. With probability $r$ a recombination event occurs.  The new frequency will be,\n",
      "$$x_1' = (1-r)x_1 + rp_1 p_2$$\n",
      "corresponding to a change of\n",
      "$$\\Delta x_1 = x_1' - x_1 = r(p_1 p_2 - x_1).$$\n",
      "Thus we see that the shift in the frequencies is proportional to how far from equilibrium (or independence) the allele frequencies are.  We can define the **linkage disequilibrium** as,\n",
      "$$D = x_1 - p_1 p_2$$\n",
      "so $\\Delta x = -r D$ and recombination is acting to reduce D.  We will see that other forces will act to increase it."
     ]
    },
    {
     "cell_type": "heading",
     "level": 3,
     "metadata": {},
     "source": [
      "Linkage Disequilibrium"
     ]
    },
    {
     "cell_type": "markdown",
     "metadata": {},
     "source": [
      "Playing with our relations among the allele frequencies a bit, we find we can write our frequencies in terms of the single allele probabilities and the linkage disequilibrium,\n",
      "$$\\begin{array}{ccccc}\n",
      "\\text{Genotype} & A_1 - B_1 & A_1 - B_2 & A_2 - B_1 & A_2 - B_2 \\\\\n",
      "\\text{frequency} & p_1 p_2 + D & p_1 q_2 - D & q_1 p_2 - D & q_1 q_2 + D\n",
      "\\end{array}$$\n",
      "Through the products of these, we can, by examination, come upon a more symmetric definition of $D$,\n",
      "$$D = x_1x_4 - x_2x_3$$\n",
      "which is the most common way to define $D$ (at least down to a sign).\n",
      "\n",
      "We are after an equation for $D$.  From the equation for the first frequency,\n",
      "$$(1-r)x_1 + p_1 p_2 = x_1' = p_1'p_2' + D'$$\n",
      "We now wish to utilise the conservation of the single allele probabilities which we can immediately see from the mating equations,\n",
      "$$p_1' = x_1' + x_2' = (1-r)x_1 + rp_1 p_2 + (1-r)x_2 + rp_1 q_2 = (1-r)p_1 + rp_1 = p_1.$$\n",
      "\n",
      "Utilizing this, the first equation now reads, $D' = (1-r)D$ immediately yielding\n",
      "$$D_t = (1-r)^t D_0.$$\n",
      "So for any appreciable $r$, we expect the linkage disequilibrium to decay rapidly.  This is typically reported in terms of a parameter $r^2$ (not the recombination rate) which is defined as, $r^2 = \\frac{D^2}{p_1q_1p_2q_2}$ which varies between 0 and 1.  Experiments show that the linkage disequilibrium is near zero for neutral loci beyond a few thousand bases apart."
     ]
    },
    {
     "cell_type": "heading",
     "level": 3,
     "metadata": {},
     "source": [
      "Hitchhiking"
     ]
    },
    {
     "cell_type": "code",
     "collapsed": false,
     "input": [],
     "language": "python",
     "metadata": {},
     "outputs": []
    }
   ],
   "metadata": {}
  }
 ]
}